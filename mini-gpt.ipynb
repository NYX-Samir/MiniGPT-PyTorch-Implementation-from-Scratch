{
  "cells": [
    {
      "cell_type": "code",
      "execution_count": 2,
      "id": "43ee841d",
      "metadata": {
        "id": "43ee841d"
      },
      "outputs": [],
      "source": [
        "import torch\n",
        "import torch.nn as nn\n",
        "import numpy as np\n",
        "from torch.utils.data import DataLoader,Dataset\n",
        "import torch.optim as optim\n",
        "import random\n",
        "import os\n",
        "\n",
        "torch.manual_seed(42)\n",
        "random.seed(42)\n",
        "np.random.seed(42)"
      ]
    },
    {
      "cell_type": "code",
      "execution_count": 3,
      "id": "8c761a8f",
      "metadata": {
        "colab": {
          "base_uri": "https://localhost:8080/"
        },
        "id": "8c761a8f",
        "outputId": "25b36584-fa7d-4271-e564-5bdfae862c71"
      },
      "outputs": [
        {
          "name": "stdout",
          "output_type": "stream",
          "text": [
            "Using Device cuda\n"
          ]
        }
      ],
      "source": [
        "device = torch.device(\"cuda\" if torch.cuda.is_available() else \"cpu\")\n",
        "print(\"Using Device\",device)"
      ]
    },
    {
      "cell_type": "markdown",
      "id": "c87a265b",
      "metadata": {
        "id": "c87a265b"
      },
      "source": [
        " ## Hyperparameters"
      ]
    },
    {
      "cell_type": "code",
      "execution_count": 4,
      "id": "55eaf2e2",
      "metadata": {
        "id": "55eaf2e2"
      },
      "outputs": [],
      "source": [
        "BATCH_SIZE=16\n",
        "BLOCK_SIZE=64\n",
        "MAX_ITERS=10000\n",
        "EVAL_INTERVAL=500\n",
        "LEARNING_RATE=3e-4\n",
        "EMBEDDING_DIM=256\n",
        "NUM_HEADS=8\n",
        "NUM_LAYERS=6\n",
        "DROPOUT=0.2"
      ]
    },
    {
      "cell_type": "markdown",
      "id": "24e41dc7",
      "metadata": {
        "id": "24e41dc7"
      },
      "source": [
        "## Dataset - Tinyshakespeare"
      ]
    },
    {
      "cell_type": "code",
      "execution_count": 5,
      "id": "f24e72e1",
      "metadata": {
        "colab": {
          "base_uri": "https://localhost:8080/"
        },
        "id": "f24e72e1",
        "outputId": "8873c1e9-1cf5-48dd-dd41-5c4a55d9ebc1"
      },
      "outputs": [
        {
          "name": "stdout",
          "output_type": "stream",
          "text": [
            "First Citizen:\n",
            "Before we proceed any further, hear me speak.\n",
            "\n",
            "All:\n",
            "Speak, speak.\n",
            "\n",
            "First Citizen:\n",
            "You are all resolved rather to die than to famish?\n",
            "\n",
            "All:\n",
            "Resolved. resolved.\n",
            "\n",
            "First Citizen:\n",
            "First, you know Caius Marcius is chief enemy to the people.\n",
            "\n",
            "All:\n",
            "We know't, we know't.\n",
            "\n",
            "First Citizen:\n",
            "Let us kill him, and we'll have corn at our own price.\n",
            "Is't a verdict?\n",
            "\n",
            "All:\n",
            "No more talking on't; let it be done: away, away!\n",
            "\n",
            "Second Citizen:\n",
            "One word, good citizens.\n",
            "\n",
            "First Citizen:\n",
            "We are accounted poor citizens, the patricians good.\n",
            "What authority surfeits on would relieve us: if they\n",
            "would yield us but the superfluity, while it were\n",
            "wholesome, we might guess they relieved us humanely;\n",
            "but they think we are too dear: the leanness that\n",
            "afflicts us, the object of our misery, is as an\n",
            "inventory to particularise their abundance; our\n",
            "sufferance is a gain to them Let us revenge this with\n",
            "our pikes, ere we become rakes: for the gods know I\n",
            "speak this in hunger for bread, not in thirst for revenge.\n",
            "\n",
            "\n"
          ]
        }
      ],
      "source": [
        "with open(\"Tinyshakespeare.txt\",\"r\",encoding=\"utf-8\") as f:\n",
        "    text=f.read()\n",
        "\n",
        "print(text[:1000])\n"
      ]
    },
    {
      "cell_type": "markdown",
      "id": "f2c20dc1",
      "metadata": {
        "id": "f2c20dc1"
      },
      "source": [
        "## Data Preprocessing"
      ]
    },
    {
      "cell_type": "code",
      "execution_count": 6,
      "id": "989d4c27",
      "metadata": {
        "id": "989d4c27"
      },
      "outputs": [],
      "source": [
        "chars=sorted(list(set(text)))\n",
        "vocab_size = len(chars)\n",
        "stoi={ch: i for i,ch in enumerate(chars)}\n",
        "itos={i: ch for i,ch in enumerate(chars)}\n",
        "encode=lambda s: [stoi[c] for c in s]\n",
        "decode=lambda l: ''.join([itos[i] for i in l])"
      ]
    },
    {
      "cell_type": "markdown",
      "id": "abde34e1",
      "metadata": {
        "id": "abde34e1"
      },
      "source": [
        "## Train-Validation split"
      ]
    },
    {
      "cell_type": "code",
      "execution_count": 7,
      "id": "5a6e04cf",
      "metadata": {
        "id": "5a6e04cf"
      },
      "outputs": [],
      "source": [
        "data =  torch.tensor(encode(text), dtype=torch.long)\n",
        "n=int(0.9*len(data))\n",
        "train_data=data[:n]\n",
        "val_data=data[n:]"
      ]
    },
    {
      "cell_type": "markdown",
      "id": "cb063dc7",
      "metadata": {
        "id": "cb063dc7"
      },
      "source": [
        "## Data Loading"
      ]
    },
    {
      "cell_type": "code",
      "execution_count": 8,
      "id": "009c4c3e",
      "metadata": {
        "id": "009c4c3e"
      },
      "outputs": [],
      "source": [
        "def get_batch(split):\n",
        "    data = train_data if split == \"train\" else val_data\n",
        "    ix = torch.randint(len(data)-BLOCK_SIZE,(BATCH_SIZE,))\n",
        "    x=torch.stack([data[i:i+BLOCK_SIZE] for i in ix])\n",
        "    y=torch.stack([data[i+1:i+BLOCK_SIZE+1] for i in ix])\n",
        "    x,y=x.to(device),y.to(device)\n",
        "    return x,y"
      ]
    },
    {
      "cell_type": "markdown",
      "id": "8d6aee3b",
      "metadata": {
        "id": "8d6aee3b"
      },
      "source": [
        "## Transformer Components"
      ]
    },
    {
      "cell_type": "markdown",
      "id": "023fec17",
      "metadata": {
        "id": "023fec17"
      },
      "source": [
        "### Self-Head Attention"
      ]
    },
    {
      "cell_type": "code",
      "execution_count": 9,
      "id": "4b8b636a",
      "metadata": {
        "id": "4b8b636a"
      },
      "outputs": [],
      "source": [
        "class Head(nn.Module):\n",
        "    def __init__(self,head_size):\n",
        "        super().__init__()\n",
        "        self.key=nn.Linear(EMBEDDING_DIM,head_size,bias=False)\n",
        "        self.query=nn.Linear(EMBEDDING_DIM,head_size,bias=False)\n",
        "        self.value=nn.Linear(EMBEDDING_DIM,head_size,bias=False)\n",
        "        self.register_buffer('tril',torch.tril(torch.ones(BLOCK_SIZE,BLOCK_SIZE)))\n",
        "        self.dropout=nn.Dropout(DROPOUT)\n",
        "\n",
        "    def forward(self,x):\n",
        "        B,T,C=x.shape\n",
        "        k=self.key(x)\n",
        "        q=self.query(x)\n",
        "        wei = q @ k.transpose(-2,-1) * (k.size(-1) ** -0.5)\n",
        "        wei=wei.masked_fill(self.tril[:T,:T]==0,float('-inf'))\n",
        "        wei=torch.softmax(wei,dim=-1)\n",
        "        wei=self.dropout(wei)\n",
        "        v=self.value(x)\n",
        "        out=wei@v\n",
        "\n",
        "        return out\n"
      ]
    },
    {
      "cell_type": "markdown",
      "id": "aa1881da",
      "metadata": {
        "id": "aa1881da"
      },
      "source": [
        "### Multi-Head Attention"
      ]
    },
    {
      "cell_type": "code",
      "execution_count": 10,
      "id": "f63946e4",
      "metadata": {
        "id": "f63946e4"
      },
      "outputs": [],
      "source": [
        "class MultiHeadAttention(nn.Module):\n",
        "    def __init__(self,num_heads,head_size):\n",
        "        super().__init__()\n",
        "        self.heads=nn.ModuleList([Head(head_size) for _ in range(num_heads)])\n",
        "        self.proj = nn.Linear(head_size * num_heads, EMBEDDING_DIM)\n",
        "        self.dropout=nn.Dropout(DROPOUT)\n",
        "\n",
        "    def forward(self,x):\n",
        "        out=torch.cat([h(x) for h in self.heads],dim=-1)\n",
        "        out = self.proj(out)\n",
        "        out=self.dropout(out)\n",
        "        return out"
      ]
    },
    {
      "cell_type": "markdown",
      "id": "24cbc823",
      "metadata": {
        "id": "24cbc823"
      },
      "source": [
        "### Feed Forward"
      ]
    },
    {
      "cell_type": "code",
      "execution_count": 11,
      "id": "4f83ffdd",
      "metadata": {
        "id": "4f83ffdd"
      },
      "outputs": [],
      "source": [
        "class feedforward(nn.Module):\n",
        "    def __init__(self,n_embd):\n",
        "        super().__init__()\n",
        "        self.net=nn.Sequential(\n",
        "            nn.Linear(n_embd,4*n_embd),\n",
        "            nn.ReLU(),\n",
        "            nn.Linear(4*n_embd,n_embd),\n",
        "            nn.Dropout(DROPOUT)\n",
        "        )\n",
        "\n",
        "    def forward(self,x):\n",
        "        return self.net(x)"
      ]
    },
    {
      "cell_type": "markdown",
      "id": "a8e8fb32",
      "metadata": {
        "id": "a8e8fb32"
      },
      "source": [
        "### Transformer block"
      ]
    },
    {
      "cell_type": "code",
      "execution_count": 12,
      "id": "61c2836f",
      "metadata": {
        "id": "61c2836f"
      },
      "outputs": [],
      "source": [
        "class Block(nn.Module):\n",
        "    def __init__(self,n_embd,n_head):\n",
        "        super().__init__()\n",
        "        head_size=n_embd//n_head\n",
        "        self.sa=MultiHeadAttention(n_head,head_size)\n",
        "        self.ffwd=feedforward(n_embd)\n",
        "        self.l1=nn.LayerNorm(n_embd)\n",
        "        self.l2=nn.LayerNorm(n_embd)\n",
        "\n",
        "    def forward(self,x):\n",
        "        x=x+self.sa(self.l1(x))\n",
        "        x=x+self.ffwd(self.l2(x))\n",
        "\n",
        "        return x"
      ]
    },
    {
      "cell_type": "markdown",
      "id": "c1b21390",
      "metadata": {
        "id": "c1b21390"
      },
      "source": [
        "## Mini-GPT Model"
      ]
    },
    {
      "cell_type": "code",
      "execution_count": 13,
      "id": "f8b4fe33",
      "metadata": {
        "colab": {
          "base_uri": "https://localhost:8080/"
        },
        "id": "f8b4fe33",
        "outputId": "33d8812d-77b7-4f93-ed1f-386296ddd808"
      },
      "outputs": [
        {
          "name": "stdout",
          "output_type": "stream",
          "text": [
            "Step 0: train loss 4.3765, val loss 4.3751\n",
            "Step 500: train loss 2.1480, val loss 2.1981\n",
            "Step 1000: train loss 1.9123, val loss 2.0041\n",
            "Step 1500: train loss 1.7861, val loss 1.9088\n",
            "Step 2000: train loss 1.6831, val loss 1.8855\n",
            "Step 2500: train loss 1.6178, val loss 1.8019\n",
            "Step 3000: train loss 1.5647, val loss 1.7713\n",
            "Step 3500: train loss 1.5316, val loss 1.7513\n",
            "Step 4000: train loss 1.5199, val loss 1.6936\n",
            "Step 4500: train loss 1.5045, val loss 1.6734\n",
            "Step 5000: train loss 1.5116, val loss 1.6806\n",
            "Step 5500: train loss 1.4701, val loss 1.7159\n",
            "Step 6000: train loss 1.4383, val loss 1.6654\n",
            "Step 6500: train loss 1.4436, val loss 1.6168\n",
            "Step 7000: train loss 1.3866, val loss 1.6225\n",
            "Step 7500: train loss 1.4198, val loss 1.6296\n",
            "Step 8000: train loss 1.3924, val loss 1.6317\n",
            "Step 8500: train loss 1.3744, val loss 1.6205\n",
            "Step 9000: train loss 1.3589, val loss 1.5628\n",
            "Step 9500: train loss 1.3786, val loss 1.6070\n",
            "\n",
            "Generated text:\n",
            "\n",
            "And his friard masters doth made and needs:\n",
            "She have it beety times with a good-come and\n",
            "The prince and thou say for thee with my coward,\n",
            "To I name-hearting sal, disgracious vullaint.\n",
            "\n",
            "LADY ANNE:I'll,\n"
          ]
        }
      ],
      "source": [
        "class MiniGPTModel(nn.Module):\n",
        "    def __init__(self):\n",
        "        super().__init__()\n",
        "        self.token_embedding_table=nn.Embedding(vocab_size,EMBEDDING_DIM)\n",
        "        self.position_embedding_table=nn.Embedding(BLOCK_SIZE,EMBEDDING_DIM)\n",
        "        self.block=nn.Sequential(*[Block(EMBEDDING_DIM,n_head=NUM_HEADS) for i in range(NUM_LAYERS)])\n",
        "        self.ln_f=nn.LayerNorm(EMBEDDING_DIM)\n",
        "        self.lm_head=nn.Linear(EMBEDDING_DIM,vocab_size)\n",
        "\n",
        "    def forward(self,idx,targets=None):\n",
        "        B,T=idx.shape\n",
        "        tok_emb=self.token_embedding_table(idx)\n",
        "        pos_emb=self.position_embedding_table(torch.arange(T,device=device))\n",
        "        x=tok_emb+pos_emb\n",
        "        x=self.block(x)\n",
        "        x=self.ln_f(x)\n",
        "        logits = self.lm_head(x)\n",
        "\n",
        "        if targets is None:\n",
        "            loss=None\n",
        "        else:\n",
        "            B,T,C=logits.shape\n",
        "            logits=logits.view(B*T,C)\n",
        "            targets=targets.view(B*T)\n",
        "            loss=nn.functional.cross_entropy(logits,targets)\n",
        "\n",
        "        return logits,loss\n",
        "\n",
        "    def generate(self,idx,max_new_tokens):\n",
        "        for _ in range(max_new_tokens):\n",
        "            idx_cond=idx[:,-BLOCK_SIZE:]\n",
        "            logits,loss=self(idx_cond)\n",
        "            logits = logits[:, -1, :]\n",
        "            probs = torch.softmax(logits, dim=-1)\n",
        "            idx_next = torch.multinomial(probs, num_samples=1)\n",
        "            idx = torch.cat((idx, idx_next), dim=1)\n",
        "\n",
        "        return idx\n",
        "\n",
        "model = MiniGPTModel().to(device)\n",
        "optimizer = torch.optim.AdamW(model.parameters(), lr=LEARNING_RATE)\n",
        "\n",
        "for iter in range(MAX_ITERS):\n",
        "    if iter % EVAL_INTERVAL == 0:\n",
        "        losses = {}\n",
        "        model.eval()\n",
        "        for split in ['train', 'val']:\n",
        "            losses[split] = 0\n",
        "            for _ in range(10):\n",
        "                x, y = get_batch(split)\n",
        "                logits, loss = model(x, y)\n",
        "                losses[split] += loss.item()\n",
        "            losses[split] /= 10\n",
        "        print(f\"Step {iter}: train loss {losses['train']:.4f}, val loss {losses['val']:.4f}\")\n",
        "        model.train()\n",
        "\n",
        "\n",
        "    xb, yb = get_batch('train')\n",
        "\n",
        "\n",
        "    logits, loss = model(xb, yb)\n",
        "    optimizer.zero_grad(set_to_none=True)\n",
        "    loss.backward()\n",
        "    optimizer.step()\n",
        "\n",
        "context = torch.zeros((1, 1), dtype=torch.long, device=device)\n",
        "print(\"\\nGenerated text:\")\n",
        "print(decode(model.generate(context, max_new_tokens=200)[0].tolist()))"
      ]
    },
    {
      "cell_type": "code",
      "execution_count": 14,
      "id": "5264e944",
      "metadata": {
        "colab": {
          "base_uri": "https://localhost:8080/"
        },
        "id": "5264e944",
        "outputId": "cbae98ac-a7ea-449a-aeaf-c7e9bbfc56ee"
      },
      "outputs": [
        {
          "name": "stdout",
          "output_type": "stream",
          "text": [
            "Hellow let entry: some rage on show men? I shall tell\n",
            "And me at oven his true, knows up plaim quence; tell\n",
            "Of for the worward, and clockning his state,\n",
            "and endrage the crodplentamned will well pure till I have.\n",
            "\n",
            "CAPULET:\n",
            "Then signora! what long you self, you see! If the ple,\n",
            "Dost you father's the necess against the poert:\n",
            "Wherefore are son? am kite you would sey?\n",
            "\n",
            "QUEEN ELIZABETER:\n",
            "And cousins not his son be, so, Feel me green.\n",
            "\n",
            "HENRY BOLINGBROKE:\n",
            "Did tell I was before out witness;\n",
            "Which wigh it that abody too so?\n",
            "Therefore I sap thy insce'stroofs me.\n",
            "\n",
            "BARICHARD:\n",
            "Well, whereout, what word, be he putinary on the sion\n",
            "That despiral tring.\n",
            "\n",
            "All Fair:\n",
            "What is thither to as the peacefulles of the words:\n",
            "Ay, gainst all to-glages that you good hold by the\n",
            "shepherds my love griefs naturess;\n",
            "You are my excutor hath love late men;\n",
            "Which reason shows to-boll'd that had four this\n",
            "Sen ded my proving as you kind again! The voices will\n",
            "Amongher furready;\n",
            "Indeedful delem.\n",
            "\n",
            "PRINCE:\n",
            "Beseech you have us he do\n"
          ]
        }
      ],
      "source": [
        "\n",
        "prompt =\"Hello\"\n",
        "\n",
        "context = torch.tensor([encode(prompt)], dtype=torch.long, device=device)  # shape [1, T]\n",
        "\n",
        "generated_idx = model.generate(context, max_new_tokens=1000)\n",
        "generated_text = decode(generated_idx[0].tolist())\n",
        "print(generated_text)\n"
      ]
    },
    {
      "cell_type": "code",
      "execution_count": 15,
      "id": "nYZX2IywHlG3",
      "metadata": {
        "id": "nYZX2IywHlG3"
      },
      "outputs": [
        {
          "name": "stdout",
          "output_type": "stream",
          "text": [
            "Model saved as model.pth\n"
          ]
        }
      ],
      "source": [
        "torch.save(model.state_dict(), \"model.pth\")\n",
        "print(\"Model saved as model.pth\")"
      ]
    },
    {
      "cell_type": "code",
      "execution_count": null,
      "id": "e316fdc9",
      "metadata": {},
      "outputs": [],
      "source": []
    }
  ],
  "metadata": {
    "accelerator": "GPU",
    "colab": {
      "gpuType": "T4",
      "provenance": []
    },
    "kernelspec": {
      "display_name": "venv",
      "language": "python",
      "name": "python3"
    },
    "language_info": {
      "codemirror_mode": {
        "name": "ipython",
        "version": 3
      },
      "file_extension": ".py",
      "mimetype": "text/x-python",
      "name": "python",
      "nbconvert_exporter": "python",
      "pygments_lexer": "ipython3",
      "version": "3.11.9"
    }
  },
  "nbformat": 4,
  "nbformat_minor": 5
}
